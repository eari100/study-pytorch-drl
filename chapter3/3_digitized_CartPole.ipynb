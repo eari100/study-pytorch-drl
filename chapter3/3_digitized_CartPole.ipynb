{
 "cells": [
  {
   "cell_type": "markdown",
   "source": [
    "3.3 다변수 연속값 상태를 이산변수로 변환하기"
   ],
   "metadata": {
    "collapsed": false
   },
   "id": "cebf10be37508ed7"
  },
  {
   "cell_type": "code",
   "execution_count": 83,
   "outputs": [],
   "source": [
    "# 구현에 사용할 패키지 임포트\n",
    "import numpy as np\n",
    "import matplotlib.pyplot as plt\n",
    "%matplotlib inline\n",
    "import gymnasium as gym"
   ],
   "metadata": {
    "collapsed": false,
    "ExecuteTime": {
     "end_time": "2023-09-23T17:49:56.255174900Z",
     "start_time": "2023-09-23T17:49:56.220174900Z"
    }
   },
   "id": "57150edb05cc01eb"
  },
  {
   "cell_type": "code",
   "execution_count": 84,
   "outputs": [],
   "source": [
    "# 상수 정의\n",
    "ENV = 'CartPole-v1' # 태스크 이름\n",
    "NUM_DIZITIZED = 6 # 각 상태를 이산변수로 변환할 구간 수"
   ],
   "metadata": {
    "collapsed": false,
    "ExecuteTime": {
     "end_time": "2023-09-23T17:49:56.278174300Z",
     "start_time": "2023-09-23T17:49:56.229175700Z"
    }
   },
   "id": "7a891f1a1b8e57ef"
  },
  {
   "cell_type": "code",
   "execution_count": 85,
   "outputs": [],
   "source": [
    "# CartPole 실행\n",
    "env = gym.make(ENV) # 태스크 실행 환경 생성\n",
    "observation = env.reset() # 환경 초기화"
   ],
   "metadata": {
    "collapsed": false,
    "ExecuteTime": {
     "end_time": "2023-09-23T17:49:56.288177500Z",
     "start_time": "2023-09-23T17:49:56.258176600Z"
    }
   },
   "id": "b01238e4010c953d"
  },
  {
   "cell_type": "code",
   "execution_count": 86,
   "outputs": [],
   "source": [
    "# 이산변수 변환에 사용할 구간을 계산\n",
    "\n",
    "\n",
    "def bins(clip_min, clip_max, num):\n",
    "    '''관측된 상태(연속값)을 이산값으로 변환하는 구간을 계산'''\n",
    "    return np.linspace(clip_min, clip_max, num + 1)[1:-1]"
   ],
   "metadata": {
    "collapsed": false,
    "ExecuteTime": {
     "end_time": "2023-09-23T17:49:56.305176400Z",
     "start_time": "2023-09-23T17:49:56.289174400Z"
    }
   },
   "id": "8c51abea2077ef9b"
  },
  {
   "cell_type": "code",
   "execution_count": 87,
   "outputs": [
    {
     "data": {
      "text/plain": "array([-2.4, -1.6, -0.8,  0. ,  0.8,  1.6,  2.4])"
     },
     "execution_count": 87,
     "metadata": {},
     "output_type": "execute_result"
    }
   ],
   "source": [
    "np.linspace(-2.4, 2.4, 6 + 1)"
   ],
   "metadata": {
    "collapsed": false,
    "ExecuteTime": {
     "end_time": "2023-09-23T17:49:56.343174200Z",
     "start_time": "2023-09-23T17:49:56.304176500Z"
    }
   },
   "id": "58173d7a45c99908"
  },
  {
   "cell_type": "code",
   "execution_count": 88,
   "outputs": [
    {
     "data": {
      "text/plain": "array([-1.6, -0.8,  0. ,  0.8,  1.6])"
     },
     "execution_count": 88,
     "metadata": {},
     "output_type": "execute_result"
    }
   ],
   "source": [
    "np.linspace(-2.4, 2.4, 6 + 1)[1:-1]"
   ],
   "metadata": {
    "collapsed": false,
    "ExecuteTime": {
     "end_time": "2023-09-23T17:49:56.350173900Z",
     "start_time": "2023-09-23T17:49:56.334175800Z"
    }
   },
   "id": "adb67de3f674d33f"
  },
  {
   "cell_type": "code",
   "execution_count": 89,
   "outputs": [],
   "source": [
    "def digitize_state(observation):\n",
    "    '''관측된 상태(observation)을 이산값으로 변환'''\n",
    "    cart_pos, cart_v, pole_angle, pole_v = observation[0]\n",
    "    digitized = [\n",
    "        np.digitize(cart_pos, bins=bins(-2.4, 2.4, NUM_DIZITIZED)),\n",
    "        np.digitize(cart_v, bins=bins(-3.0, 3.0, NUM_DIZITIZED)),\n",
    "        np.digitize(pole_angle, bins=bins(-0.5, 0.5, NUM_DIZITIZED)),\n",
    "        np.digitize(pole_v, bins=bins(-2.0, 2.0, NUM_DIZITIZED))]\n",
    "    return sum([x * (NUM_DIZITIZED**i) for i, x in enumerate(digitized)])"
   ],
   "metadata": {
    "collapsed": false,
    "ExecuteTime": {
     "end_time": "2023-09-23T17:49:56.392178Z",
     "start_time": "2023-09-23T17:49:56.350173900Z"
    }
   },
   "id": "605f9aa9ee758b22"
  },
  {
   "cell_type": "code",
   "execution_count": 90,
   "outputs": [
    {
     "name": "stdout",
     "output_type": "stream",
     "text": [
      "<class 'tuple'>\n",
      "(array([ 0.02486578, -0.0041425 , -0.00821451, -0.0313946 ], dtype=float32), {})\n"
     ]
    },
    {
     "data": {
      "text/plain": "519"
     },
     "execution_count": 90,
     "metadata": {},
     "output_type": "execute_result"
    }
   ],
   "source": [
    "digitize_state(observation)"
   ],
   "metadata": {
    "collapsed": false,
    "ExecuteTime": {
     "end_time": "2023-09-23T17:49:56.407176700Z",
     "start_time": "2023-09-23T17:49:56.393177200Z"
    }
   },
   "id": "34f1b1b38d141b53"
  }
 ],
 "metadata": {
  "kernelspec": {
   "display_name": "Python 3",
   "language": "python",
   "name": "python3"
  },
  "language_info": {
   "codemirror_mode": {
    "name": "ipython",
    "version": 2
   },
   "file_extension": ".py",
   "mimetype": "text/x-python",
   "name": "python",
   "nbconvert_exporter": "python",
   "pygments_lexer": "ipython2",
   "version": "2.7.6"
  }
 },
 "nbformat": 4,
 "nbformat_minor": 5
}
