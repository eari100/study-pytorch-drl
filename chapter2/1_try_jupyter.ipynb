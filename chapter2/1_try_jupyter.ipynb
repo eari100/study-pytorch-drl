{
 "cells": [
  {
   "cell_type": "markdown",
   "id": "7bb4f8aa-f41e-4521-9e9d-7415010ece94",
   "metadata": {
    "collapsed": false
   },
   "source": [
    "## 2.1 주피터 노트북 사용법"
   ]
  },
  {
   "cell_type": "code",
   "execution_count": 3,
   "id": "3552ba11-5ba3-408a-a8eb-d60230e3e081",
   "metadata": {},
   "outputs": [],
   "source": [
    "x = 2 + 3\n",
    "y = x + 4"
   ]
  },
  {
   "cell_type": "code",
   "execution_count": 7,
   "id": "43e52639-44b1-4999-879c-11d5db926345",
   "metadata": {},
   "outputs": [
    {
     "name": "stdout",
     "output_type": "stream",
     "text": [
      "x의 값은 5입니다\n",
      "y의 값은 9입니다\n"
     ]
    }
   ],
   "source": [
    "print('x의 값은 {}입니다'.format(x))\n",
    "print('y의 값은 {}입니다'.format(y))"
   ]
  }
 ],
 "metadata": {
  "kernelspec": {
   "display_name": "Python 3 (ipykernel)",
   "language": "python",
   "name": "python3"
  },
  "language_info": {
   "codemirror_mode": {
    "name": "ipython",
    "version": 3
   },
   "file_extension": ".py",
   "mimetype": "text/x-python",
   "name": "python",
   "nbconvert_exporter": "python",
   "pygments_lexer": "ipython3",
   "version": "3.8.1"
  }
 },
 "nbformat": 4,
 "nbformat_minor": 5
}
